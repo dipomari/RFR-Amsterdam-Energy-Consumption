{
 "cells": [
  {
   "cell_type": "code",
   "execution_count": 24,
   "metadata": {},
   "outputs": [],
   "source": [
    "import pandas as pd\n",
    "import os\n",
    "import re\n",
    "\n",
    "folder_path = 'Electricity'\n",
    "files = [f for f in os.listdir(folder_path) if os.path.isfile(os.path.join(folder_path, f))]\n",
    "\n",
    "all_data = []\n",
    "\n",
    "for file in files:\n",
    "    file_path = os.path.join(folder_path, file)\n",
    "    \n",
    "    #Regex to match years in file names\n",
    "    year_match = re.search(r'(\\d{4})(?=\\D|$)', file)\n",
    "    year = int(year_match.group()) if year_match else None\n",
    "\n",
    "    if year: \n",
    "        df = pd.read_csv(file_path) \n",
    "        df['year'] = year \n",
    "        all_data.append(df)\n",
    "\n",
    "merged_data = pd.concat(all_data, ignore_index=True)\n",
    "merged_data.drop(columns=['ï»¿NETBEHEERDER','STANDAARDDEVIATIE','%Defintieve aansl (NRM)'], inplace=True)\n",
    "output_file = 'merged_data.csv'\n",
    "merged_data.to_csv(output_file, index=False)\n"
   ]
  },
  {
   "cell_type": "code",
   "execution_count": 25,
   "metadata": {},
   "outputs": [],
   "source": [
    "merged_data.drop(columns=['ï»¿NETBEHEERDER','STANDAARDDEVIATIE','%Defintieve aansl (NRM)'], inplace=True)"
   ]
  },
  {
   "cell_type": "code",
   "execution_count": 28,
   "metadata": {},
   "outputs": [],
   "source": [
    "output_file = 'merged_data.csv'\n",
    "merged_data.to_csv(output_file, index=False)\n"
   ]
  }
 ],
 "metadata": {
  "kernelspec": {
   "display_name": "DataProject",
   "language": "python",
   "name": "python3"
  },
  "language_info": {
   "codemirror_mode": {
    "name": "ipython",
    "version": 3
   },
   "file_extension": ".py",
   "mimetype": "text/x-python",
   "name": "python",
   "nbconvert_exporter": "python",
   "pygments_lexer": "ipython3",
   "version": "3.11.5"
  }
 },
 "nbformat": 4,
 "nbformat_minor": 2
}
